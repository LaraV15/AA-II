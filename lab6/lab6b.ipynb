{
  "cells": [
    {
      "cell_type": "markdown",
      "metadata": {
        "id": "R17_gCYEpUj6"
      },
      "source": [
        "# Lab 6b - Clasificacion de imágenes con transfer learning.\n",
        "\n",
        "El objetivo de este laboratorio es entrenar un clasificador de imagenes usando transfer learning para el siguiente dataset:\n",
        "\n",
        "https://storage.googleapis.com/mledu-datasets/cats_and_dogs_filtered.zip"
      ]
    },
    {
      "cell_type": "markdown",
      "metadata": {
        "id": "YDnpx1sopUj9"
      },
      "source": [
        "## Preparación del entorno.\n",
        "\n",
        "Si no estamos parados en el repo, clonar y cd al repo. Esto nos permite usar el mismo notebook tanto local como en Google Colab."
      ]
    },
    {
      "cell_type": "code",
      "execution_count": null,
      "metadata": {
        "colab": {
          "base_uri": "https://localhost:8080/"
        },
        "id": "KkzRyzPrpUj-",
        "outputId": "0f011fd1-4e99-4062-9a8f-9d80f864aa23"
      },
      "outputs": [],
      "source": [
        "import os\n",
        "\n",
        "REPO_NAME = \"lab6\"\n",
        "if REPO_NAME not in os.getcwd():\n",
        "  if not os.path.exists(REPO_NAME):\n",
        "    !git clone https://github.com/FCEIA-AAII/{REPO_NAME}.git\n",
        "  os.chdir(REPO_NAME)\n"
      ]
    },
    {
      "cell_type": "markdown",
      "metadata": {
        "id": "eWRXk_wfpUj-"
      },
      "source": [
        "Importar librerías"
      ]
    },
    {
      "cell_type": "code",
      "execution_count": null,
      "metadata": {
        "id": "F-0gu4nNpUj_"
      },
      "outputs": [],
      "source": [
        "import numpy as np\n",
        "from pathlib import Path\n",
        "import tensorflow as tf\n",
        "from keras.layers import Input, Dense, GlobalMaxPooling2D\n",
        "import matplotlib.pyplot as plt\n",
        "from PIL import Image"
      ]
    },
    {
      "cell_type": "markdown",
      "metadata": {
        "id": "AJT506AXpUj_"
      },
      "source": [
        "Establecer GPU por defecto en caso de estar disponible."
      ]
    },
    {
      "cell_type": "code",
      "execution_count": null,
      "metadata": {
        "colab": {
          "base_uri": "https://localhost:8080/"
        },
        "id": "dMPBKDUqpUkA",
        "outputId": "628c8777-41dd-42c8-aee2-b981574d53f9"
      },
      "outputs": [],
      "source": [
        "# Configurar para que TensorFlow utilice la GPU por defecto\n",
        "gpus = tf.config.experimental.list_physical_devices('GPU')\n",
        "if gpus:\n",
        "    try:\n",
        "        # Configurar para que TensorFlow asigne memoria dinámicamente\n",
        "        for gpu in gpus:\n",
        "            tf.config.experimental.set_memory_growth(gpu, True)\n",
        "        # Especificar la GPU por defecto\n",
        "        logical_gpus = tf.config.experimental.list_logical_devices('GPU')\n",
        "        print(len(gpus), \"Physical GPUs,\", len(logical_gpus), \"Logical GPUs\")\n",
        "    except RuntimeError as e:\n",
        "        # Manejar error\n",
        "        print(e)"
      ]
    },
    {
      "cell_type": "markdown",
      "metadata": {
        "id": "RTFivZvwrr3c"
      },
      "source": [
        "Cargar dataset:"
      ]
    },
    {
      "cell_type": "code",
      "execution_count": null,
      "metadata": {
        "colab": {
          "base_uri": "https://localhost:8080/"
        },
        "id": "B4SEGiicron5",
        "outputId": "5536eb9b-2680-4b70-af81-a3d12224fa64"
      },
      "outputs": [],
      "source": [
        "# Directorio de los datos\n",
        "TRAIN_DATA_DIRECTORY = Path(\"dataset/train\")\n",
        "VALIDATION_DATA_DIRECTORY = Path(\"dataset/validation\")\n",
        "\n",
        "# Tamaño del lote (batch size)\n",
        "BATCH_SIZE = 32\n",
        "# Tamaño de las imágenes\n",
        "IMAGE_HEIGHT = 224\n",
        "IMAGE_WIDTH = 224\n",
        "\n",
        "# Carga los datos de entrenamiento y validación\n",
        "train_ds = tf.keras.utils.image_dataset_from_directory(\n",
        "    TRAIN_DATA_DIRECTORY,\n",
        "    label_mode=\"categorical\",\n",
        "    image_size=(IMAGE_HEIGHT, IMAGE_WIDTH),\n",
        "    batch_size=BATCH_SIZE)\n",
        "\n",
        "val_ds = tf.keras.utils.image_dataset_from_directory(\n",
        "    VALIDATION_DATA_DIRECTORY,\n",
        "    label_mode=\"categorical\",\n",
        "    image_size=(IMAGE_HEIGHT, IMAGE_WIDTH),\n",
        "    batch_size=BATCH_SIZE)"
      ]
    },
    {
      "cell_type": "markdown",
      "metadata": {
        "id": "8t2GvwFlsDxB"
      },
      "source": [
        "Inspeccionar las clases:"
      ]
    },
    {
      "cell_type": "code",
      "execution_count": null,
      "metadata": {
        "colab": {
          "base_uri": "https://localhost:8080/"
        },
        "id": "ODYKVTIssDxC",
        "outputId": "8ab86baa-f409-456b-8524-5b747c7a9e1c"
      },
      "outputs": [],
      "source": [
        "# Obtiene los nombres de las clases\n",
        "class_names = train_ds.class_names\n",
        "num_classes = len(class_names)\n",
        "print(class_names)"
      ]
    },
    {
      "cell_type": "markdown",
      "metadata": {},
      "source": [
        "Reducimos el tamaño del dataset para emular un escenario real donde no tenemos muchos datos."
      ]
    },
    {
      "cell_type": "code",
      "execution_count": null,
      "metadata": {},
      "outputs": [],
      "source": [
        "train_ds = train_ds.take(200)\n",
        "val_ds = val_ds.take(100)"
      ]
    },
    {
      "cell_type": "markdown",
      "metadata": {
        "id": "ubJrSBs93n_w"
      },
      "source": [
        "Visualizar los datos:"
      ]
    },
    {
      "cell_type": "code",
      "execution_count": null,
      "metadata": {
        "colab": {
          "base_uri": "https://localhost:8080/",
          "height": 829
        },
        "id": "6qEllzoh3n_y",
        "outputId": "76625eb0-e3d3-4fd4-b373-a9d015b0d00a"
      },
      "outputs": [],
      "source": [
        "# Muestra algunas imágenes de ejemplo\n",
        "plt.figure(figsize=(10, 10))\n",
        "for images, labels in train_ds.take(1):\n",
        "  for i in range(9):\n",
        "    ax = plt.subplot(3, 3, i + 1)\n",
        "    plt.imshow(images[i].numpy().astype(\"uint8\"))\n",
        "    class_idx = list(labels[i]).index(1)\n",
        "    plt.title(class_names[class_idx])\n",
        "    plt.axis(\"off\")"
      ]
    },
    {
      "cell_type": "markdown",
      "metadata": {
        "id": "dPc6bR40slUd"
      },
      "source": [
        "Definir la arquitectura de la red:"
      ]
    },
    {
      "cell_type": "code",
      "execution_count": null,
      "metadata": {
        "id": "AP7JcxqnslUk"
      },
      "outputs": [],
      "source": [
        "def build_model(input_shape, num_classes):\n",
        "    base_model = tf.keras.applications.EfficientNetB0(input_shape=input_shape,\n",
        "                                                include_top=False,\n",
        "                                                weights='imagenet')\n",
        "    base_model.trainable = False\n",
        "\n",
        "    i = Input(shape=input_shape)\n",
        "    x = base_model(i, training=False)\n",
        "    x = GlobalMaxPooling2D()(x)\n",
        "    x = Dense(num_classes, activation='softmax')(x)\n",
        "\n",
        "    return tf.keras.Model(i, x)\n",
        "\n"
      ]
    },
    {
      "cell_type": "markdown",
      "metadata": {
        "id": "MqmagBPQtR4P"
      },
      "source": [
        "Construir el modelo:"
      ]
    },
    {
      "cell_type": "code",
      "execution_count": null,
      "metadata": {
        "colab": {
          "base_uri": "https://localhost:8080/"
        },
        "id": "Lwjh6aoatR4W",
        "outputId": "4f00bcfc-8689-4894-cb71-9779a5336a0c"
      },
      "outputs": [],
      "source": [
        "print(\"Building model\")\n",
        "model = build_model((IMAGE_HEIGHT, IMAGE_WIDTH, 3), num_classes)\n",
        "\n",
        "model.compile(\n",
        "    optimizer='adam',\n",
        "    loss=\"categorical_crossentropy\",\n",
        "    metrics=['accuracy'])"
      ]
    },
    {
      "cell_type": "markdown",
      "metadata": {
        "id": "Rtd0tlWitelD"
      },
      "source": [
        "Resumen del modelo:"
      ]
    },
    {
      "cell_type": "code",
      "execution_count": null,
      "metadata": {
        "colab": {
          "base_uri": "https://localhost:8080/"
        },
        "id": "1MiIn1u5telJ",
        "outputId": "934f8b1b-152b-49dc-bd82-162ad293c8e3"
      },
      "outputs": [],
      "source": [
        "model.summary()"
      ]
    },
    {
      "cell_type": "markdown",
      "metadata": {
        "id": "18XCTIAq2xvu"
      },
      "source": [
        "Entrenar el modelo:"
      ]
    },
    {
      "cell_type": "code",
      "execution_count": null,
      "metadata": {
        "colab": {
          "base_uri": "https://localhost:8080/"
        },
        "id": "_CPqN1z72xv0",
        "outputId": "26659a03-851e-4037-9223-0dd11382f709"
      },
      "outputs": [],
      "source": [
        "# Número de épocas de entrenamiento\n",
        "EPOCHS = 30\n",
        "# Entrena el modelo\n",
        "history = model.fit(\n",
        "    train_ds,\n",
        "    validation_data=val_ds,\n",
        "    epochs=EPOCHS,\n",
        "    batch_size=BATCH_SIZE\n",
        ")"
      ]
    },
    {
      "cell_type": "markdown",
      "metadata": {
        "id": "5-V-eXRc3CiA"
      },
      "source": [
        "Visualizar resultados de entrenamiento:"
      ]
    },
    {
      "cell_type": "code",
      "execution_count": null,
      "metadata": {
        "colab": {
          "base_uri": "https://localhost:8080/",
          "height": 699
        },
        "id": "qAArNY393CiG",
        "outputId": "25dad8d3-27e1-439c-f112-95083e283421"
      },
      "outputs": [],
      "source": [
        "# Grafica la precisión y pérdida de entrenamiento y validación\n",
        "acc = history.history['accuracy']\n",
        "val_acc = history.history['val_accuracy']\n",
        "\n",
        "loss = history.history['loss']\n",
        "val_loss = history.history['val_loss']\n",
        "\n",
        "epochs_range = range(EPOCHS)\n",
        "\n",
        "plt.figure(figsize=(8, 8))\n",
        "plt.subplot(1, 2, 1)\n",
        "plt.plot(epochs_range, acc, label='Training Accuracy')\n",
        "plt.plot(epochs_range, val_acc, label='Validation Accuracy')\n",
        "plt.legend(loc='lower right')\n",
        "plt.title('Training and Validation Accuracy')\n",
        "\n",
        "plt.subplot(1, 2, 2)\n",
        "plt.plot(epochs_range, loss, label='Training Loss')\n",
        "plt.plot(epochs_range, val_loss, label='Validation Loss')\n",
        "plt.legend(loc='upper right')\n",
        "plt.title('Training and Validation Loss')\n",
        "plt.show()"
      ]
    }
  ],
  "metadata": {
    "accelerator": "GPU",
    "colab": {
      "gpuType": "T4",
      "provenance": []
    },
    "kernelspec": {
      "display_name": "Python 3",
      "name": "python3"
    },
    "language_info": {
      "codemirror_mode": {
        "name": "ipython",
        "version": 3
      },
      "file_extension": ".py",
      "mimetype": "text/x-python",
      "name": "python",
      "nbconvert_exporter": "python",
      "pygments_lexer": "ipython3",
      "version": "3.8.10"
    }
  },
  "nbformat": 4,
  "nbformat_minor": 0
}
