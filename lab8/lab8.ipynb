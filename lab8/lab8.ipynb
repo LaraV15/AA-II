{
  "cells": [
    {
      "cell_type": "markdown",
      "metadata": {
        "id": "R17_gCYEpUj6"
      },
      "source": [
        "# Lab 8 - Búsqueda por similitud usando feature extraction.\n",
        "\n",
        "El objetivo de es implementar un sistema de búsqueda por similitud de imágenes usando feature extraction. Para ello, se utilizará un modelo pre-entrenado de clasificación de imágenes."
      ]
    },
    {
      "cell_type": "markdown",
      "metadata": {
        "id": "YDnpx1sopUj9"
      },
      "source": [
        "## Preparación del entorno.\n",
        "\n",
        "Si no estamos parados en el repo, clonar y cd al repo. Esto nos permite usar el mismo notebook tanto local como en Google Colab."
      ]
    },
    {
      "cell_type": "code",
      "execution_count": null,
      "metadata": {
        "colab": {
          "base_uri": "https://localhost:8080/"
        },
        "id": "KkzRyzPrpUj-",
        "outputId": "0f011fd1-4e99-4062-9a8f-9d80f864aa23"
      },
      "outputs": [],
      "source": [
        "import os\n",
        "\n",
        "REPO_NAME = \"lab8\"\n",
        "if REPO_NAME not in os.getcwd():\n",
        "  if not os.path.exists(REPO_NAME):\n",
        "    !git clone https://github.com/FCEIA-AAII/{REPO_NAME}.git\n",
        "  os.chdir(REPO_NAME)\n"
      ]
    },
    {
      "cell_type": "markdown",
      "metadata": {
        "id": "eWRXk_wfpUj-"
      },
      "source": [
        "Importar librerías"
      ]
    },
    {
      "cell_type": "code",
      "execution_count": null,
      "metadata": {
        "id": "F-0gu4nNpUj_"
      },
      "outputs": [],
      "source": [
        "import numpy as np\n",
        "from pathlib import Path\n",
        "import tensorflow as tf\n",
        "from keras.layers import Input, Dense, GlobalMaxPooling2D\n",
        "import matplotlib.pyplot as plt\n",
        "from PIL import Image"
      ]
    },
    {
      "cell_type": "markdown",
      "metadata": {
        "id": "AJT506AXpUj_"
      },
      "source": [
        "Establecer GPU por defecto en caso de estar disponible."
      ]
    },
    {
      "cell_type": "code",
      "execution_count": null,
      "metadata": {
        "colab": {
          "base_uri": "https://localhost:8080/"
        },
        "id": "dMPBKDUqpUkA",
        "outputId": "628c8777-41dd-42c8-aee2-b981574d53f9"
      },
      "outputs": [],
      "source": [
        "# Configurar para que TensorFlow utilice la GPU por defecto\n",
        "gpus = tf.config.experimental.list_physical_devices('GPU')\n",
        "if gpus:\n",
        "    try:\n",
        "        # Configurar para que TensorFlow asigne memoria dinámicamente\n",
        "        for gpu in gpus:\n",
        "            tf.config.experimental.set_memory_growth(gpu, True)\n",
        "        # Especificar la GPU por defecto\n",
        "        logical_gpus = tf.config.experimental.list_logical_devices('GPU')\n",
        "        print(len(gpus), \"Physical GPUs,\", len(logical_gpus), \"Logical GPUs\")\n",
        "    except RuntimeError as e:\n",
        "        # Manejar error\n",
        "        print(e)"
      ]
    },
    {
      "cell_type": "markdown",
      "metadata": {
        "id": "RTFivZvwrr3c"
      },
      "source": [
        "Cargar dataset:"
      ]
    },
    {
      "cell_type": "code",
      "execution_count": null,
      "metadata": {
        "colab": {
          "base_uri": "https://localhost:8080/"
        },
        "id": "B4SEGiicron5",
        "outputId": "5536eb9b-2680-4b70-af81-a3d12224fa64"
      },
      "outputs": [],
      "source": [
        "# Directorio de los datos\n",
        "TRAIN_DATA_DIRECTORY = Path(\"dataset\")\n",
        "\n",
        "# Tamaño del lote (batch size)\n",
        "BATCH_SIZE = 32\n",
        "\n",
        "# Tamaño de las imágenes\n",
        "IMAGE_HEIGHT = 224\n",
        "IMAGE_WIDTH = 224\n",
        "\n",
        "# Carga los datos.\n",
        "dataset = tf.keras.utils.image_dataset_from_directory(\n",
        "    TRAIN_DATA_DIRECTORY,\n",
        "    label_mode=None,\n",
        "    image_size=(IMAGE_HEIGHT, IMAGE_WIDTH),\n",
        "    batch_size=BATCH_SIZE\n",
        ")\n"
      ]
    },
    {
      "cell_type": "markdown",
      "metadata": {
        "id": "ubJrSBs93n_w"
      },
      "source": [
        "Visualizar los datos:"
      ]
    },
    {
      "cell_type": "code",
      "execution_count": null,
      "metadata": {
        "colab": {
          "base_uri": "https://localhost:8080/",
          "height": 829
        },
        "id": "6qEllzoh3n_y",
        "outputId": "76625eb0-e3d3-4fd4-b373-a9d015b0d00a"
      },
      "outputs": [],
      "source": [
        "# Muestra algunas imágenes de ejemplo\n",
        "plt.figure(figsize=(10, 10))\n",
        "for images in dataset.take(1):\n",
        "  for i in range(9):\n",
        "    ax = plt.subplot(3, 3, i + 1)\n",
        "    plt.imshow(images[i].numpy().astype(\"uint8\"))\n",
        "    plt.title(f\"Example: {i}\")\n",
        "    plt.axis(\"off\")"
      ]
    },
    {
      "cell_type": "markdown",
      "metadata": {
        "id": "dPc6bR40slUd"
      },
      "source": [
        "Definimos un feature extractor."
      ]
    },
    {
      "cell_type": "code",
      "execution_count": null,
      "metadata": {
        "id": "AP7JcxqnslUk"
      },
      "outputs": [],
      "source": [
        "feature_extractor = tf.keras.applications.EfficientNetB0(input_shape=(IMAGE_HEIGHT, IMAGE_WIDTH,3 ),\n",
        "                                                include_top=False,\n",
        "                                                weights='imagenet',\n",
        "                                                pooling=\"avg\"\n",
        "                                                )\n"
      ]
    },
    {
      "cell_type": "markdown",
      "metadata": {
        "id": "MqmagBPQtR4P"
      },
      "source": [
        "Corremos el feature extractor sobre el dataset."
      ]
    },
    {
      "cell_type": "code",
      "execution_count": null,
      "metadata": {
        "colab": {
          "base_uri": "https://localhost:8080/"
        },
        "id": "Lwjh6aoatR4W",
        "outputId": "4f00bcfc-8689-4894-cb71-9779a5336a0c"
      },
      "outputs": [],
      "source": [
        "features = feature_extractor.predict(dataset)"
      ]
    },
    {
      "cell_type": "markdown",
      "metadata": {},
      "source": [
        "Asociamos cada feature con su respectiva imagen."
      ]
    },
    {
      "cell_type": "code",
      "execution_count": null,
      "metadata": {},
      "outputs": [],
      "source": [
        "# Obtener las imágenes correspondientes al dataset\n",
        "image_paths = dataset.file_paths\n",
        "\n",
        "# Asociar cada feature vector con su imagen correspondiente\n",
        "image_features_mapping = dict(zip(image_paths, features))"
      ]
    },
    {
      "cell_type": "markdown",
      "metadata": {},
      "source": [
        "Defino una función similitud, utilizo cosine_similarity:"
      ]
    },
    {
      "cell_type": "code",
      "execution_count": null,
      "metadata": {},
      "outputs": [],
      "source": [
        "def cosine_similarity(v1, v2):\n",
        "  return np.dot(v1, v2) / (np.linalg.norm(v1) * np.linalg.norm(v2))"
      ]
    },
    {
      "cell_type": "markdown",
      "metadata": {},
      "source": [
        "Ejemplo de cómo calcular similitud con `cosine_similarity`:"
      ]
    },
    {
      "cell_type": "code",
      "execution_count": null,
      "metadata": {},
      "outputs": [],
      "source": [
        "path_1 = np.random.choice(image_paths)\n",
        "path_2 = np.random.choice(image_paths)\n",
        "\n",
        "v1 = image_features_mapping[path_1]\n",
        "v2 = image_features_mapping[path_2]\n",
        "\n",
        "print(\"Similitud:\", cosine_similarity(v1, v2))\n",
        "\n",
        "image_1 = plt.imread(path_1)\n",
        "image_2 = plt.imread(path_2)\n",
        "\n",
        "plt.figure(figsize=(10, 5))\n",
        "\n",
        "# Subplot para la primera imagen\n",
        "plt.subplot(1, 2, 1)\n",
        "plt.imshow(image_1)\n",
        "plt.title(\"Imagen 1\")\n",
        "plt.axis('off')\n",
        "\n",
        "# Subplot para la segunda imagen\n",
        "plt.subplot(1, 2, 2)\n",
        "plt.imshow(image_2)\n",
        "plt.title(\"Imagen 2\")\n",
        "plt.axis('off')\n",
        "\n",
        "plt.show()"
      ]
    },
    {
      "cell_type": "markdown",
      "metadata": {},
      "source": [
        "Completar el lab con la búsqueda por similitud.\n",
        "\n",
        "Seleccionar una imagen al azar y buscar las 10 imágenes más similares."
      ]
    }
  ],
  "metadata": {
    "accelerator": "GPU",
    "colab": {
      "gpuType": "T4",
      "provenance": []
    },
    "kernelspec": {
      "display_name": "Python 3",
      "name": "python3"
    },
    "language_info": {
      "codemirror_mode": {
        "name": "ipython",
        "version": 3
      },
      "file_extension": ".py",
      "mimetype": "text/x-python",
      "name": "python",
      "nbconvert_exporter": "python",
      "pygments_lexer": "ipython3",
      "version": "3.8.10"
    }
  },
  "nbformat": 4,
  "nbformat_minor": 0
}
